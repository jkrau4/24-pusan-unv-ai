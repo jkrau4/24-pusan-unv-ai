{
 "cells": [
  {
   "cell_type": "code",
   "execution_count": 23,
   "metadata": {},
   "outputs": [],
   "source": [
    "import numpy as np\n",
    "\n",
    "def Sigmoid(x):\n",
    "    return 1/(1 + np.exp(-x))\n",
    "\n",
    "def DeltaSGD(W, X, D):\n",
    "    alpha = 0.9\n",
    "    \n",
    "    N = 4\n",
    "    for k in range(N):\n",
    "        x = X[k, :].T\n",
    "        d = D[k]\n",
    "    \n",
    "        v = np.matmul(W, x)\n",
    "        y = Sigmoid(v)\n",
    "        \n",
    "        e     = d - y\n",
    "        delta = y * (1-y) * e\n",
    "        \n",
    "        dW = alpha * delta * x\n",
    "        \n",
    "        W[0][0] = W[0][0] + dW[0]\n",
    "        W[0][1] = W[0][1] + dW[1]\n",
    "        W[0][2] = W[0][2] + dW[2]\n",
    "        \n",
    "    return W"
   ]
  },
  {
   "cell_type": "code",
   "execution_count": 24,
   "metadata": {},
   "outputs": [
    {
     "name": "stdout",
     "output_type": "stream",
     "text": [
      "[0.01019395]\n",
      "[0.00829449]\n",
      "[0.99324102]\n",
      "[0.99169025]\n"
     ]
    }
   ],
   "source": [
    "def TestDeltaSGD():\n",
    "    X = np.array([[0, 0, 1],\n",
    "                  [0, 1, 1],\n",
    "                  [1, 0, 1],\n",
    "                  [1, 1, 1]])\n",
    "    \n",
    "    D = np.array([[0],\n",
    "                  [0],\n",
    "                  [1],\n",
    "                  [1]])\n",
    "        \n",
    "    W = 2*np.random.random((1, 3)) - 1\n",
    "        \n",
    "    for epoch in range(10000):\n",
    "        W = DeltaSGD(W, X, D)\n",
    "                \n",
    "    N = 4\n",
    "    for k in range(N):\n",
    "        x = X[k,:].T\n",
    "        v = np.matmul(W, x)\n",
    "        y = Sigmoid(v)\n",
    "        print(y)\n",
    "\n",
    "TestDeltaSGD()"
   ]
  }
 ],
 "metadata": {
  "kernelspec": {
   "display_name": "Python 3",
   "language": "python",
   "name": "python3"
  },
  "language_info": {
   "codemirror_mode": {
    "name": "ipython",
    "version": 3
   },
   "file_extension": ".py",
   "mimetype": "text/x-python",
   "name": "python",
   "nbconvert_exporter": "python",
   "pygments_lexer": "ipython3",
   "version": "3.11.5"
  },
  "orig_nbformat": 4
 },
 "nbformat": 4,
 "nbformat_minor": 2
}
